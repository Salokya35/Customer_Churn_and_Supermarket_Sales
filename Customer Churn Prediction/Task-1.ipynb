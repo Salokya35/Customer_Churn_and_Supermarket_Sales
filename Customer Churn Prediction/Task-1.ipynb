{
 "cells": [
  {
   "cell_type": "markdown",
   "metadata": {},
   "source": [
    "# Task 1: AdaBoost and Random Forest Classifier for Customer Churn Dataset"
   ]
  },
  {
   "cell_type": "code",
   "execution_count": 15,
   "metadata": {},
   "outputs": [],
   "source": [
    "import pandas as pd\n",
    "import time\n",
    "import matplotlib.pyplot as plt\n",
    "import numpy as np\n",
    "from tabulate import tabulate\n",
    "import psutil\n",
    "import os"
   ]
  },
  {
   "cell_type": "code",
   "execution_count": 16,
   "metadata": {},
   "outputs": [],
   "source": [
    "csv_file_path = \"C:\\\\Users\\\\AMAN\\\\Desktop\\\\DMML Assignments\\\\Assignment 1 by Aman and Salokya Deb\\\\Task-1\\\\customer-churn-data.csv\"\n",
    "data = pd.read_csv(csv_file_path)"
   ]
  },
  {
   "cell_type": "code",
   "execution_count": 17,
   "metadata": {},
   "outputs": [
    {
     "name": "stdout",
     "output_type": "stream",
     "text": [
      "                       Missing Values     Data Types  \n",
      "CustomerID                   0              int64     \n",
      "Age                          0              int64     \n",
      "Gender                       0              object    \n",
      "AnnualIncome                 0             float64    \n",
      "TotalSpend                   0             float64    \n",
      "YearsAsCustomer              0              int64     \n",
      "NumOfPurchases               0              int64     \n",
      "AvgTransactionAmount         0             float64    \n",
      "NumOfReturns                 0              int64     \n",
      "NumOfSupportQueries          0              int64     \n",
      "SatisfactionScore            0              int64     \n",
      "LastPurchaseDaysAgo          0              int64     \n",
      "EmailOptIn                   0               bool     \n",
      "PromotionResponse            0              object    \n",
      "Churn                        0               bool     \n"
     ]
    }
   ],
   "source": [
    "# Checking for missing values\n",
    "missing_values = data.isnull().sum()\n",
    "data_types = data.dtypes\n",
    "\n",
    "info_table = pd.DataFrame({'Missing Values': missing_values, 'Data Types': data_types})\n",
    "info_table = info_table.apply(lambda x: x.astype(str).str.center(15))\n",
    "info_table.columns = info_table.columns.str.center(15)\n",
    "\n",
    "print(info_table)"
   ]
  },
  {
   "cell_type": "code",
   "execution_count": 18,
   "metadata": {},
   "outputs": [],
   "source": [
    "# CustomerID is not needed for classification\n",
    "data = data.drop(data.columns[0], axis=1)"
   ]
  },
  {
   "cell_type": "code",
   "execution_count": 19,
   "metadata": {},
   "outputs": [],
   "source": [
    "# Load libraries\n",
    "from sklearn.ensemble import AdaBoostClassifier, RandomForestClassifier\n",
    "\n",
    "# For optimal hyperparameter tuning\n",
    "from sklearn.model_selection import GridSearchCV\n",
    "\n",
    "# Import train_test_split function\n",
    "from sklearn.model_selection import train_test_split\n",
    "\n",
    "# For categorical data\n",
    "from sklearn.preprocessing import OneHotEncoder\n",
    "\n",
    "# Import module for handling column transformations in the machine learning pipeline\n",
    "from sklearn.compose import ColumnTransformer\n",
    "\n",
    "# Import necessary modules for creating a machine learning pipeline\n",
    "from sklearn.pipeline import Pipeline\n",
    "\n",
    "# Import scikit-learn metrics module for evaluation\n",
    "from sklearn.metrics import accuracy_score, precision_score, recall_score, f1_score, confusion_matrix"
   ]
  },
  {
   "cell_type": "code",
   "execution_count": 20,
   "metadata": {},
   "outputs": [],
   "source": [
    "start = time.time()\n",
    "\n",
    "X = data.drop('Churn', axis=1) # Features\n",
    "y = data['Churn'] # Target Variable\n",
    "\n",
    "# Identifying categorical and boolean columns\n",
    "categorical_cols = [col for col in X.columns if X[col].dtype == 'object']\n",
    "boolean_cols = [col for col in X.columns if X[col].dtype == 'bool']\n",
    "\n",
    "# Transformer for categorical columns\n",
    "categorical_transformer = Pipeline(steps=[('onehot', OneHotEncoder(handle_unknown = 'ignore'))])\n",
    "preprocessor = ColumnTransformer(\n",
    "    transformers=[\n",
    "        ('num', 'passthrough', X.select_dtypes(include=['int64', 'float64']).columns),\n",
    "        ('bool', 'passthrough', boolean_cols),  # No need for preprocessing boolean columns\n",
    "        ('cat', categorical_transformer, categorical_cols)\n",
    "    ])\n",
    "\n",
    "# Split the data into training and testing sets\n",
    "X_train, X_test, y_train, y_test = train_test_split(X, y, test_size = 0.2)\n",
    "\n",
    "end = time.time()\n",
    "preprocessing_time = end-start\n"
   ]
  },
  {
   "cell_type": "markdown",
   "metadata": {},
   "source": [
    "## Classifier using Adaboost"
   ]
  },
  {
   "cell_type": "markdown",
   "metadata": {},
   "source": [
    "### AdaBoostClassifier with Decision Tree (Default)"
   ]
  },
  {
   "cell_type": "code",
   "execution_count": 21,
   "metadata": {},
   "outputs": [
    {
     "name": "stdout",
     "output_type": "stream",
     "text": [
      "Best parameters found:  {'classifier__algorithm': 'SAMME', 'classifier__estimator': None, 'classifier__learning_rate': 0.1, 'classifier__n_estimators': 100}\n"
     ]
    }
   ],
   "source": [
    "start = time.time()\n",
    "\n",
    "adaboost_clf = AdaBoostClassifier(n_estimators = 50)\n",
    "\n",
    "# Creating and fitting the pipeline\n",
    "pipeline = Pipeline(steps=[('preprocessor', preprocessor), ('classifier', adaboost_clf)])\n",
    "\n",
    "# Defining the parameter grid for AdaBoostClassifier\n",
    "param_grid = {\n",
    "    'classifier__n_estimators': [50, 100, 200],\n",
    "    'classifier__learning_rate': [0.01, 0.1, 1.0],\n",
    "    'classifier__estimator': [None],\n",
    "    'classifier__algorithm': ['SAMME', 'SAMME.R']\n",
    "}\n",
    "\n",
    "# Grid search with cross-validation\n",
    "grid_search = GridSearchCV(pipeline, param_grid, cv=5, n_jobs=-1, scoring='accuracy')\n",
    "\n",
    "# Initial memory usage\n",
    "process = psutil.Process(os.getpid())\n",
    "memory_before = process.memory_info().rss\n",
    "\n",
    "# Fit the grid search to the data\n",
    "grid_search.fit(X_train, y_train)\n",
    "\n",
    "# Memory usage after fitting\n",
    "memory_after = process.memory_info().rss\n",
    "\n",
    "# Memory consumed\n",
    "memory_consumed_ada_dt = (memory_after - memory_before)/1024\n",
    "\n",
    "# Best parameters and best score\n",
    "print(\"Best parameters found: \", grid_search.best_params_)\n",
    "\n",
    "# Predictions on test data\n",
    "y_pred_ada_dt = grid_search.predict(X_test)\n",
    "end = time.time()\n",
    "\n",
    "# Predictions on training data\n",
    "y_train_pred_ada_dt = grid_search.predict(X_train)\n",
    "\n",
    "run_time_ada_dt = (end-start)+preprocessing_time"
   ]
  },
  {
   "cell_type": "markdown",
   "metadata": {},
   "source": [
    "### Evaluation Metrics"
   ]
  },
  {
   "cell_type": "code",
   "execution_count": 22,
   "metadata": {},
   "outputs": [
    {
     "name": "stdout",
     "output_type": "stream",
     "text": [
      "Training Data Accuracy Score: 0.54\n",
      "Test Data Accuracy Score: 0.53\n",
      "Test Data Precision Score: 0.53\n",
      "Test Data Recall Score: 1.00\n",
      "Test Data F1 Score: 0.69\n",
      "\n",
      "Confusion Matrix:\n",
      "[[  0  94]\n",
      " [  0 106]]\n"
     ]
    }
   ],
   "source": [
    "# Evaluating performance metrics\n",
    "accuracy_train_ada_dt = accuracy_score(y_train,y_train_pred_ada_dt)\n",
    "accuracy_ada_dt = accuracy_score(y_test, y_pred_ada_dt)\n",
    "precision_ada_dt = precision_score(y_test, y_pred_ada_dt)\n",
    "recall_ada_dt = recall_score(y_test, y_pred_ada_dt)\n",
    "f1score_ada_dt = f1_score(y_test, y_pred_ada_dt)\n",
    "print(f'Training Data Accuracy Score: {accuracy_train_ada_dt:.2f}')\n",
    "print(f'Test Data Accuracy Score: {accuracy_ada_dt:.2f}')\n",
    "print(f'Test Data Precision Score: {precision_ada_dt:.2f}')\n",
    "print(f'Test Data Recall Score: {recall_ada_dt:.2f}')\n",
    "print(f'Test Data F1 Score: {f1score_ada_dt:.2f}')\n",
    "\n",
    "# Confusion matrix \n",
    "conf_matrix = confusion_matrix(y_test, y_pred_ada_dt)\n",
    "\n",
    "print('\\nConfusion Matrix:')\n",
    "print(conf_matrix)"
   ]
  },
  {
   "cell_type": "markdown",
   "metadata": {},
   "source": [
    "### AdaBoostClassifier with RandomForestClassifier"
   ]
  },
  {
   "cell_type": "code",
   "execution_count": 23,
   "metadata": {},
   "outputs": [
    {
     "name": "stderr",
     "output_type": "stream",
     "text": [
      "c:\\Users\\AMAN\\AppData\\Local\\Programs\\Python\\Python311\\Lib\\site-packages\\sklearn\\ensemble\\_base.py:156: FutureWarning: `base_estimator` was renamed to `estimator` in version 1.2 and will be removed in 1.4.\n",
      "  warnings.warn(\n"
     ]
    },
    {
     "name": "stdout",
     "output_type": "stream",
     "text": [
      "Best parameters found:  {'classifier__base_estimator__max_depth': 10, 'classifier__learning_rate': 0.01, 'classifier__n_estimators': 50}\n"
     ]
    }
   ],
   "source": [
    "start = time.time()\n",
    "# Making the RandomForestClassifier\n",
    "rf_base = RandomForestClassifier(n_estimators=100, random_state=42)\n",
    "\n",
    "# Making the AdaBoostClassifier with RandomForestClassifier as base estimator\n",
    "adaboost_clf = AdaBoostClassifier(base_estimator=rf_base, random_state=42)\n",
    "\n",
    "# Creating the pipeline\n",
    "pipeline = Pipeline(steps=[('preprocessor', preprocessor), ('classifier', adaboost_clf)])\n",
    "\n",
    "# Defining the parameter grid for AdaBoostClassifier\n",
    "param_grid = {\n",
    "    'classifier__n_estimators': [50, 100, 200],\n",
    "    'classifier__learning_rate': [0.01, 0.1, 1.0],\n",
    "    'classifier__base_estimator__max_depth': [None, 5, 10]\n",
    "}\n",
    "\n",
    "# Grid search with cross-validation\n",
    "grid_search = GridSearchCV(pipeline, param_grid, cv=5, n_jobs=-1, scoring='accuracy')\n",
    "\n",
    "# Get the initial memory usage\n",
    "process = psutil.Process(os.getpid())\n",
    "memory_before = process.memory_info().rss\n",
    "\n",
    "# Fit the grid search to the data\n",
    "grid_search.fit(X_train, y_train)\n",
    "\n",
    "# Get the memory usage after fitting\n",
    "memory_after = process.memory_info().rss\n",
    "\n",
    "# Calculate the memory consumed\n",
    "memory_consumed_ada_rf = (memory_after - memory_before)/1024\n",
    "\n",
    "# Best parameters and best score\n",
    "print(\"Best parameters found: \", grid_search.best_params_)\n",
    "\n",
    "# Predictions on test data\n",
    "y_pred_ada_rf = grid_search.predict(X_test)\n",
    "end = time.time()\n",
    "\n",
    "# Predictions on training data\n",
    "y_train_pred_ada_rf = grid_search.predict(X_train)\n",
    "\n",
    "run_time_ada_rf = (end-start)+preprocessing_time"
   ]
  },
  {
   "cell_type": "markdown",
   "metadata": {},
   "source": [
    "### Evaluation Metrics"
   ]
  },
  {
   "cell_type": "code",
   "execution_count": 24,
   "metadata": {},
   "outputs": [
    {
     "name": "stdout",
     "output_type": "stream",
     "text": [
      "Training Data Accuracy Score: 1.00\n",
      "Test Data Accuracy Score: 0.52\n",
      "Test Data Precision Score: 0.53\n",
      "Test Data Recall Score: 0.65\n",
      "Test Data F1 Score: 0.59\n",
      "\n",
      "Confusion Matrix:\n",
      "[[34 60]\n",
      " [37 69]]\n"
     ]
    }
   ],
   "source": [
    "# Evaluating performance metrics\n",
    "accuracy_train_ada_rf = accuracy_score(y_train,y_train_pred_ada_rf)\n",
    "accuracy_ada_rf = accuracy_score(y_test, y_pred_ada_rf)\n",
    "precision_ada_rf = precision_score(y_test, y_pred_ada_rf)\n",
    "recall_ada_rf = recall_score(y_test, y_pred_ada_rf)\n",
    "f1score_ada_rf = f1_score(y_test, y_pred_ada_rf)\n",
    "print(f'Training Data Accuracy Score: {accuracy_train_ada_rf:.2f}')\n",
    "print(f'Test Data Accuracy Score: {accuracy_ada_rf:.2f}')\n",
    "print(f'Test Data Precision Score: {precision_ada_rf:.2f}')\n",
    "print(f'Test Data Recall Score: {recall_ada_rf:.2f}')\n",
    "print(f'Test Data F1 Score: {f1score_ada_rf:.2f}')\n",
    "\n",
    "# Confusion matrix\n",
    "conf_matrix = confusion_matrix(y_test, y_pred_ada_rf)\n",
    "\n",
    "print('\\nConfusion Matrix:')\n",
    "print(conf_matrix)"
   ]
  },
  {
   "cell_type": "markdown",
   "metadata": {},
   "source": [
    "## Classifier using Random Forest"
   ]
  },
  {
   "cell_type": "markdown",
   "metadata": {},
   "source": [
    "### Training the Random Forest Classifier and making predictions"
   ]
  },
  {
   "cell_type": "code",
   "execution_count": 11,
   "metadata": {},
   "outputs": [
    {
     "name": "stdout",
     "output_type": "stream",
     "text": [
      "Best parameters found:\n",
      "{'classifier__bootstrap': False, 'classifier__max_depth': 20, 'classifier__min_samples_leaf': 2, 'classifier__min_samples_split': 5, 'classifier__n_estimators': 200}\n"
     ]
    }
   ],
   "source": [
    "start = time.time()\n",
    "\n",
    "# Define the parameter grid for RandomForestClassifier\n",
    "param_grid = {\n",
    "    'classifier__n_estimators': [100, 150, 200],  # Number of trees in the forest\n",
    "    'classifier__max_depth': [None, 10, 20],  # Maximum depth of the trees\n",
    "    'classifier__min_samples_split': [2, 5, 10],  # Minimum number of samples required to split an internal node\n",
    "    'classifier__min_samples_leaf': [1, 2, 4],  # Minimum number of samples required to be at a leaf node\n",
    "    'classifier__bootstrap': [True, False],  # Whether bootstrap samples are used when building trees\n",
    "}\n",
    "\n",
    "# Making the RandomForestClassifier\n",
    "rf_clf = RandomForestClassifier(random_state=42)\n",
    "\n",
    "# Creating the pipeline\n",
    "pipeline = Pipeline(steps=[('preprocessor', preprocessor), ('classifier', rf_clf)])\n",
    "\n",
    "# Grid search with cross-validation\n",
    "grid_search = GridSearchCV(pipeline, param_grid, cv=5, scoring='accuracy')\n",
    "\n",
    "# Initial memory usage\n",
    "process = psutil.Process(os.getpid())\n",
    "memory_before = process.memory_info().rss\n",
    "\n",
    "# Fit the grid search to the data\n",
    "grid_search.fit(X_train, y_train)\n",
    "\n",
    "# Memory usage after fitting\n",
    "memory_after = process.memory_info().rss\n",
    "\n",
    "# Memory consumed\n",
    "memory_consumed_rf = (memory_after - memory_before)/1024\n",
    "\n",
    "# Best parameters found\n",
    "print(\"Best parameters found:\")\n",
    "print(grid_search.best_params_)\n",
    "\n",
    "# Predict the response variable on the test set\n",
    "best_model = grid_search.best_estimator_\n",
    "y_pred_rf = best_model.predict(X_test)\n",
    "\n",
    "end = time.time()\n",
    "\n",
    "# Predictions on training data\n",
    "y_train_pred_rf = grid_search.predict(X_train)\n",
    "\n",
    "run_time_rf = (end-start)+preprocessing_time"
   ]
  },
  {
   "cell_type": "markdown",
   "metadata": {},
   "source": [
    "### Evaluation Metrics"
   ]
  },
  {
   "cell_type": "code",
   "execution_count": 12,
   "metadata": {},
   "outputs": [
    {
     "name": "stdout",
     "output_type": "stream",
     "text": [
      "Training Data Accuracy Score: 1.00\n",
      "Test Data Accuracy Score: 0.51\n",
      "Test Data Precision Score: 0.53\n",
      "Test Data Recall Score: 0.63\n",
      "Test Data F1 Score: 0.58\n",
      "\n",
      "Confusion Matrix:\n",
      "[[34 60]\n",
      " [39 67]]\n"
     ]
    }
   ],
   "source": [
    "# Evaluate performance metrics\n",
    "accuracy_train_rf = accuracy_score(y_train, y_train_pred_rf)\n",
    "accuracy_rf = accuracy_score(y_test, y_pred_rf)\n",
    "precision_rf = precision_score(y_test, y_pred_rf)\n",
    "recall_rf = recall_score(y_test, y_pred_rf)\n",
    "f1score_rf = f1_score(y_test, y_pred_rf)\n",
    "print(f'Training Data Accuracy Score: {accuracy_train_rf:.2f}')\n",
    "print(f'Test Data Accuracy Score: {accuracy_rf:.2f}')\n",
    "print(f'Test Data Precision Score: {precision_rf:.2f}')\n",
    "print(f'Test Data Recall Score: {recall_rf:.2f}')\n",
    "print(f'Test Data F1 Score: {f1score_rf:.2f}')\n",
    "\n",
    "# Confusion matrix \n",
    "conf_matrix = confusion_matrix(y_test, y_pred_rf)\n",
    "\n",
    "print('\\nConfusion Matrix:')\n",
    "print(conf_matrix)"
   ]
  },
  {
   "cell_type": "markdown",
   "metadata": {},
   "source": [
    "## Comparative Evaluation"
   ]
  },
  {
   "cell_type": "markdown",
   "metadata": {},
   "source": [
    "### Comparison of Performance Metrics"
   ]
  },
  {
   "cell_type": "code",
   "execution_count": 13,
   "metadata": {},
   "outputs": [
    {
     "data": {
      "image/png": "[encoded data removed]",
      "text/plain": [
       "<Figure size 800x500 with 1 Axes>"
      ]
     },
     "metadata": {},
     "output_type": "display_data"
    }
   ],
   "source": [
    "# Sample data for three models\n",
    "Performance_Metrics = ['accuracy', 'precision', 'recall', 'f1score']\n",
    "AdaBoost_dt = [accuracy_ada_dt, precision_ada_dt,recall_ada_dt, f1score_ada_dt]\n",
    "AdaBoost_rf = [accuracy_ada_rf, precision_ada_rf,recall_ada_rf, f1score_ada_rf]\n",
    "Random_Forest = [accuracy_rf, precision_rf, recall_rf, f1score_rf]\n",
    "\n",
    "bar_width = 0.2\n",
    "\n",
    "index = np.arange(len(Performance_Metrics))\n",
    "\n",
    "plt.figure(figsize=(8, 5))\n",
    "plt.bar(index - 1.0*bar_width, AdaBoost_dt, bar_width, label='AdaBoost_dt')\n",
    "plt.bar(index , AdaBoost_rf, bar_width, label='AdaBoost_rf')\n",
    "plt.bar(index + 1.0*bar_width, Random_Forest, bar_width, label='Random Forest')\n",
    "\n",
    "for i in range(len(Performance_Metrics)):\n",
    "    plt.text(index[i] - 1*bar_width, AdaBoost_dt[i] + 0.01, f'{AdaBoost_dt[i]:.2f}', ha='center')\n",
    "    plt.text(index[i], AdaBoost_rf[i] + 0.01, f'{AdaBoost_rf[i]:.2f}', ha='center')\n",
    "    plt.text(index[i] + 1*bar_width, Random_Forest[i] + 0.01, f'{Random_Forest[i]:.2f}', ha='center')\n",
    "\n",
    "plt.xlabel('Performance Metrics')\n",
    "plt.ylabel('Score')\n",
    "plt.title('Performance Metrics Comparison')\n",
    "plt.xticks(index, Performance_Metrics)\n",
    "plt.legend()\n",
    "\n",
    "plt.ylim(0, 1)\n",
    "\n",
    "plt.tight_layout()\n",
    "plt.show()\n"
   ]
  },
  {
   "cell_type": "markdown",
   "metadata": {},
   "source": [
    "### Comparison of Run Times and Memory Used"
   ]
  },
  {
   "cell_type": "code",
   "execution_count": 14,
   "metadata": {},
   "outputs": [
    {
     "name": "stdout",
     "output_type": "stream",
     "text": [
      "+---------------------------+-------------------+---------------------+\n",
      "|        Model Type         |     Run Time      | Memory Used (in KB) |\n",
      "+---------------------------+-------------------+---------------------+\n",
      "| Adaboost (decision trees) | 9.556113719940186 |       1200.0        |\n",
      "|  Adaboost(random forest)  | 539.8581728935242 |       43524.0       |\n",
      "|       Random Forest       | 636.2342970371246 |       6704.0        |\n",
      "+---------------------------+-------------------+---------------------+\n"
     ]
    }
   ],
   "source": [
    "metrics_dict = {\n",
    "    'Model Type': ['Adaboost (decision trees)','Adaboost(random forest)','Random Forest'],\n",
    "    'Run Time': [run_time_ada_dt, run_time_ada_rf, run_time_rf],\n",
    "    'Memory Used (in KB)': [memory_consumed_ada_dt, memory_consumed_ada_rf, memory_consumed_rf]\n",
    "}\n",
    "\n",
    "metrics_df = pd.DataFrame(metrics_dict)\n",
    "\n",
    "table = tabulate(metrics_df, headers='keys', tablefmt='pretty', showindex=False)\n",
    "\n",
    "print(table)\n"
   ]
  }
 ],
 "metadata": {
  "kernelspec": {
   "display_name": "Python 3",
   "language": "python",
   "name": "python3"
  },
  "language_info": {
   "codemirror_mode": {
    "name": "ipython",
    "version": 3
   },
   "file_extension": ".py",
   "mimetype": "text/x-python",
   "name": "python",
   "nbconvert_exporter": "python",
   "pygments_lexer": "ipython3",
   "version": "3.11.4"
  }
 },
 "nbformat": 4,
 "nbformat_minor": 2
}
